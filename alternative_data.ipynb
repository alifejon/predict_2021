{
 "cells": [
  {
   "cell_type": "markdown",
   "metadata": {},
   "source": [
    "# 기업에 대한 정보를 얻는 다양한 대체정보 소스들\n",
    "- 트위터 들\n",
    "  - https://twitter.com/elonmusk\n",
    "  - https://twitter.com/teslarati\n",
    "  - https://twitter.com/heydave7\n",
    "  - https://twitter.com/SawyerMerritt\n",
    "- 유튜브\n",
    "  - https://www.youtube.com/channel/UCgYkuL87rUwiBl7tqfN53Eg\n",
    "  - https://www.youtube.com/c/ElectrochemKS\n",
    "  - https://electrek.co/2022/02/07/tesla-spotted-working-cybertruck-prototype-drones-dangerously-close/\n",
    "- 기업 공매도 리포트\n",
    "  - 니콜라 공매도: https://m.snek.ai/alpha/article/115310\n",
    "  - 루이싱 커피 공매도: https://www.joongang.co.kr/article/23749615#home\n",
    "  - 테라노스 사태: https://ab420.tistory.com/21\n",
    "- 주의할 점은 선별 & 판단이 중요\n",
    "  - https://www.clien.net/service/board/cm_car/16949654?combine=true&q=%ED%85%8C%EC%8A%AC%EB%9D%BC&p=0&sort=recency&boardCd=&isBoard=false\n",
    "\n",
    "# 자산의 가치 평가\n",
    "- 부동산 가치 평가\n",
    "  - 아파트\n",
    "  - 땅\n",
    "  - 빌라\n",
    "  - 등...\n",
    "- 가상 자산의 가치평가\n",
    "  - NFT 가치평가: https://hubworld.tistory.com/121\n",
    "\n",
    "# 기타 책 내용\n",
    "- 대체 데이터의 궁극적인 목표는 알파, 즉 양(+)이며 상관관계가 없는 투자 수익을 창출하는 트레이딩 신호에 대한 경쟁력 있는 검색에서 정보 이점을 제공하는 것\n",
    "- 부동산 목표로투자하는 대체 데이터세트: 2006년 Zillow가 선도적으로 가격 추정을 한 이후 크게 증가\n",
    "- 독점력: 독점력이 있을수록 그리고 데이터 처리하기가 더 어려울수록 알파창출 능력을 가진 데이터는 빠른 신호 붕괴(signal decay)를 겪지 않고 전략을 추진할 가능성이 높다.\n",
    "  - 정보가 퍼지는 내용: https://medium.com/the-renaissance-economist/taking-control-of-information-spread-in-a-network-graph-85c979e26aeb\n",
    "\n",
    "# 대체 데이터 시장\n",
    "- https://alternativedata.org/\n",
    "- 제품범주: 최근 인공위성과 지리적 위치 데이터가 빠르게 성장\n",
    "  - 소셜 감성 분석\n",
    "  - 인공위성\n",
    "  - 지리적 위치\n",
    "  - 웹 데이터와 트래픽\n",
    "  - 인프라와 인터페이스\n",
    "  - 컨설턴트\n",
    "  - 신용 및 직불카드 사용\n",
    "  - 데이터 브로커\n",
    "  - 공공 데이터\n",
    "  - 앱 사용\n",
    "  - 이메일과 소비자 영수증\n",
    "  - 매도 측면\n",
    "  - 날씨\n",
    "  - 기타\n",
    "\n",
    "# 크롤링 데이터 코드 샘플"
   ]
  },
  {
   "cell_type": "code",
   "execution_count": null,
   "metadata": {},
   "outputs": [],
   "source": []
  }
 ],
 "metadata": {
  "language_info": {
   "name": "python"
  },
  "orig_nbformat": 4
 },
 "nbformat": 4,
 "nbformat_minor": 2
}
